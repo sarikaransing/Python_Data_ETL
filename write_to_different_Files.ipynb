{
  "nbformat": 4,
  "nbformat_minor": 0,
  "metadata": {
    "colab": {
      "provenance": [],
      "authorship_tag": "ABX9TyMRwFEoEZB+SSa7OKxY0AH4",
      "include_colab_link": true
    },
    "kernelspec": {
      "name": "python3",
      "display_name": "Python 3"
    },
    "language_info": {
      "name": "python"
    }
  },
  "cells": [
    {
      "cell_type": "markdown",
      "metadata": {
        "id": "view-in-github",
        "colab_type": "text"
      },
      "source": [
        "<a href=\"https://colab.research.google.com/github/sarikaransing/Python_Data_ETL/blob/main/write_to_different_Files.ipynb\" target=\"_parent\"><img src=\"https://colab.research.google.com/assets/colab-badge.svg\" alt=\"Open In Colab\"/></a>"
      ]
    },
    {
      "cell_type": "code",
      "execution_count": null,
      "metadata": {
        "colab": {
          "base_uri": "https://localhost:8080/"
        },
        "id": "rvbr6g9S_3dD",
        "outputId": "4e5e29f8-f781-41db-e4b7-30426485bd3a"
      },
      "outputs": [
        {
          "output_type": "stream",
          "name": "stdout",
          "text": [
            "{101: 530, 102: 400, 103: 500}\n"
          ]
        }
      ],
      "source": [
        "import  pandas as  pd\n",
        "orders = [\n",
        "    {\"order_id\": 1, \"cust_id\": 101, \"amount\": 200},\n",
        "    {\"order_id\": 2, \"cust_id\": 101, \"amount\": 180},\n",
        "    {\"order_id\": 3, \"cust_id\": 102, \"amount\": 400},\n",
        "    {\"order_id\": 4, \"cust_id\": 103, \"amount\": 500},\n",
        "    {\"order_id\": 5, \"cust_id\": 101, \"amount\": 150}\n",
        "]\n",
        "df=pd.DataFrame(orders)\n",
        "#print(df)\n",
        "df.to_csv(\"/content/orders.csv\", index=False)\n",
        "df.to_excel(\"/content/orders.xlsx\", index=False)\n",
        "df.to_json(\"/content/orders.json\", index=False)\n",
        "df2=pd.read_json(\"/content/orders.json\")\n",
        "#print(df2)\n",
        "\n",
        "def total_spent_byCust(orders):\n",
        "  total_spent={}\n",
        "  for order in  orders:\n",
        "    cust_id=order[\"cust_id\"]\n",
        "    amount=order[\"amount\"]\n",
        "    if cust_id in total_spent:\n",
        "      total_spent[cust_id]+=amount\n",
        "    else:\n",
        "      total_spent[cust_id]=amount\n",
        "  return total_spent\n",
        "\n",
        "result=total_spent_byCust(orders)\n",
        "print(result)"
      ]
    },
    {
      "cell_type": "code",
      "source": [
        "def second_highest(orders):\n",
        "  sorted_orders=sorted(orders,key=lambda x: x['amount'], reverse=True)\n",
        "#print(sorted_orders)\n",
        "  highest_amount=sorted_orders[0][\"amount\"]\n",
        "  if len(sorted_orders) < 2:\n",
        "    print (\"not  enough numbers  of  list\")\n",
        "    print(highest_amount)\n",
        "  for order in sorted_orders [1:]:\n",
        "    if order[\"amount\"] < highest_amount:\n",
        "      return order\n",
        "  else:\n",
        "    return None\n",
        "\n",
        "result= second_highest(orders)\n",
        "print(result)"
      ],
      "metadata": {
        "colab": {
          "base_uri": "https://localhost:8080/"
        },
        "id": "-6upC7ClbT4U",
        "outputId": "c23f3845-fd0e-4f66-f7a5-68906eb54032"
      },
      "execution_count": null,
      "outputs": [
        {
          "output_type": "stream",
          "name": "stdout",
          "text": [
            "{'order_id': 3, 'cust_id': 102, 'amount': 400}\n"
          ]
        }
      ]
    },
    {
      "cell_type": "markdown",
      "source": [],
      "metadata": {
        "id": "e7zGCJglOnLY"
      }
    },
    {
      "cell_type": "code",
      "source": [
        "def multiplier(n):\n",
        "    return lambda x: x * n\n",
        "\n",
        "double = multiplier(2)\n",
        "print(double(5))"
      ],
      "metadata": {
        "colab": {
          "base_uri": "https://localhost:8080/"
        },
        "id": "26CiwDZudGSL",
        "outputId": "1f5e1483-4f52-4901-9bce-f4293a9a6833"
      },
      "execution_count": null,
      "outputs": [
        {
          "output_type": "stream",
          "name": "stdout",
          "text": [
            "10\n"
          ]
        }
      ]
    },
    {
      "cell_type": "code",
      "source": [
        "#return list  of  customers  ids  who made more than  one  purchase\n",
        "\n",
        "def customer_with_multiple_orders(orders):\n",
        "  customer_count={}\n",
        "  for order in orders:\n",
        "    cust_id=order[\"cust_id\"]\n",
        "    if cust_id in customer_count:\n",
        "      customer_count[cust_id]+=1\n",
        "    else:\n",
        "      customer_count[cust_id]=1\n",
        "  return [cust_id for  cust_id,count in customer_count.items()  if count > 1 ]\n",
        "\n",
        "result=customer_with_multiple_orders(orders)\n",
        "print(result)"
      ],
      "metadata": {
        "colab": {
          "base_uri": "https://localhost:8080/"
        },
        "id": "gxf1uAHARwBy",
        "outputId": "68d06a0b-858a-47a5-e3a7-49da55a1e060"
      },
      "execution_count": null,
      "outputs": [
        {
          "output_type": "stream",
          "name": "stdout",
          "text": [
            "[101]\n"
          ]
        }
      ]
    },
    {
      "cell_type": "markdown",
      "source": [
        "Write a function to return the order with the second highest amount."
      ],
      "metadata": {
        "id": "9OG1icBubY9K"
      }
    }
  ]
}