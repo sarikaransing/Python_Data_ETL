{
  "nbformat": 4,
  "nbformat_minor": 0,
  "metadata": {
    "colab": {
      "provenance": [],
      "authorship_tag": "ABX9TyMWe+onNSSqMZAroVPIfq37",
      "include_colab_link": true
    },
    "kernelspec": {
      "name": "python3",
      "display_name": "Python 3"
    },
    "language_info": {
      "name": "python"
    }
  },
  "cells": [
    {
      "cell_type": "markdown",
      "metadata": {
        "id": "view-in-github",
        "colab_type": "text"
      },
      "source": [
        "<a href=\"https://colab.research.google.com/github/sarikaransing/Python_Data_ETL/blob/main/Dropna_fillna.ipynb\" target=\"_parent\"><img src=\"https://colab.research.google.com/assets/colab-badge.svg\" alt=\"Open In Colab\"/></a>"
      ]
    },
    {
      "cell_type": "code",
      "execution_count": null,
      "metadata": {
        "id": "QtRXKBJCgm2q"
      },
      "outputs": [],
      "source": []
    },
    {
      "cell_type": "markdown",
      "source": [
        "Read the file using Pandas.\n",
        "\n",
        "Show number of missing values per column.\n",
        "\n",
        "Display the first 3 records only."
      ],
      "metadata": {
        "id": "w26UYtorgqKk"
      }
    },
    {
      "cell_type": "code",
      "source": [
        "import pandas  as  pd\n",
        "df=pd.read_csv(\"/content/Sales_Data.txt\",header=0)\n",
        "#print(df)\n",
        "print(df.head(3))\n",
        "print(df.tail(2))\n",
        "print(\"Null Values in Each Column :\", df.isnull().sum())\n",
        "\n"
      ],
      "metadata": {
        "colab": {
          "base_uri": "https://localhost:8080/"
        },
        "id": "yqoprwm9gupO",
        "outputId": "4304a162-8be7-4f3d-d755-d6e8fea76eb2"
      },
      "execution_count": 3,
      "outputs": [
        {
          "output_type": "stream",
          "name": "stdout",
          "text": [
            "   order_id  cust_id  amount    city\n",
            "0       1.0      101   200.0  Mumbai\n",
            "1       2.0      102     NaN   Delhi\n",
            "2       3.0      103   400.0     NaN\n",
            "   order_id  cust_id  amount city\n",
            "4       5.0      104     NaN  NaN\n",
            "5       NaN      105     NaN  NaN\n",
            "Null Values in Each Column : order_id    1\n",
            "cust_id     0\n",
            "amount      3\n",
            "city        3\n",
            "dtype: int64\n"
          ]
        }
      ]
    },
    {
      "cell_type": "markdown",
      "source": [
        "a. Replace all missing values in the amount column with the mean of the column.\n",
        "b. Drop all rows where both amount and city are missing.\n",
        "c. Fill missing city values with the value \"Unknown\".\n"
      ],
      "metadata": {
        "id": "ufgbkJTZjn3y"
      }
    },
    {
      "cell_type": "code",
      "source": [
        "from statistics import mean\n",
        "df['amount']=df['amount'].fillna(df[\"amount\"].mean())\n",
        "#print(df)\n",
        "\n",
        "df['city']=df['city'].fillna('Unknown')\n",
        "#print(df)\n",
        "df_filter=df.dropna(subset=['order_id'])\n",
        "print(df_filter)\n",
        "df_filter.to_csv(\"/content/cleaned_Sales_Data.txt\",index=False,)\n"
      ],
      "metadata": {
        "colab": {
          "base_uri": "https://localhost:8080/",
          "height": 106
        },
        "id": "HmPKVhw3kJVf",
        "outputId": "2ccf3f12-3f50-477b-e4a9-5c26516fcac8"
      },
      "execution_count": 35,
      "outputs": [
        {
          "output_type": "error",
          "ename": "SyntaxError",
          "evalue": "invalid syntax. Perhaps you forgot a comma? (ipython-input-35-552538806.py, line 9)",
          "traceback": [
            "\u001b[0;36m  File \u001b[0;32m\"/tmp/ipython-input-35-552538806.py\"\u001b[0;36m, line \u001b[0;32m9\u001b[0m\n\u001b[0;31m    file_schema=[order_id int,cust_id int,amount double,city string]\u001b[0m\n\u001b[0m                 ^\u001b[0m\n\u001b[0;31mSyntaxError\u001b[0m\u001b[0;31m:\u001b[0m invalid syntax. Perhaps you forgot a comma?\n"
          ]
        }
      ]
    },
    {
      "cell_type": "markdown",
      "source": [
        "Append this to cleaned_sales.csv without creating a new header row.\n",
        "\n",
        "Then, read the final file and print the total number of rows."
      ],
      "metadata": {
        "id": "ooZXnHlVr942"
      }
    },
    {
      "cell_type": "code",
      "source": [
        "new_data = {\n",
        "    \"order_id\": [6, 7],\n",
        "    \"cust_id\": [105, 106],\n",
        "    \"amount\": [300, 450],\n",
        "    \"city\": [\"Chennai\", \"Kolkata\"]\n",
        "}\n",
        "df2=pd.DataFrame(new_data)\n",
        "#df2.to_csv(\"/content/cleaned_Sales_Data.txt\",mode='a',index=False,header=False)\n",
        "df3=pd.read_csv(\"/content/cleaned_Sales_Data.txt\")\n",
        "print(df3)\n",
        "\n",
        "total_count=df3['order_id'].count()\n",
        "print(\"total_rows:\",total_count)\n"
      ],
      "metadata": {
        "colab": {
          "base_uri": "https://localhost:8080/"
        },
        "id": "H6sBoqGSsOvy",
        "outputId": "a0c557ba-4d2d-41d1-808c-6e6884578d0a"
      },
      "execution_count": 51,
      "outputs": [
        {
          "output_type": "stream",
          "name": "stdout",
          "text": [
            "   order_id  cust_id      amount     city\n",
            "0       1.0      101  200.000000   Mumbai\n",
            "1       2.0      102  283.333333    Delhi\n",
            "2       3.0      103  400.000000  Unknown\n",
            "3       4.0      101  250.000000     Pune\n",
            "4       5.0      104  283.333333  Unknown\n",
            "5       6.0      105  300.000000  Chennai\n",
            "6       7.0      106  450.000000  Kolkata\n",
            "total_rows: 7\n"
          ]
        }
      ]
    },
    {
      "cell_type": "markdown",
      "source": [
        "drop duplicates based on cust_id ,amount\n",
        "\n",
        "\n"
      ],
      "metadata": {
        "id": "heGQyFNSyKJ_"
      }
    },
    {
      "cell_type": "code",
      "source": [
        "df4=pd.read_csv(\"/content/cleaned_Sales_Data1.txt\")\n",
        "from datetime  import  datetime\n",
        "\n",
        "df4 = df4.drop(columns=['is_duplicated'], errors='ignore')  # drop if exists\n",
        "df4['is_duplicated'] = df4.duplicated(subset=['cust_id', 'amount'], keep='first')\n",
        "#print(df4)\n",
        "\n",
        "final_result=df4.drop_duplicates(subset=['cust_id','amount'])\n",
        "#print(final_result)\n",
        "final_result['order_date']=datetime.now()\n",
        "print(final_result)"
      ],
      "metadata": {
        "id": "YiAxCx3ZyS5q"
      },
      "execution_count": null,
      "outputs": []
    },
    {
      "cell_type": "markdown",
      "source": [],
      "metadata": {
        "id": "PtSVgF1wjdMB"
      }
    },
    {
      "cell_type": "markdown",
      "source": [],
      "metadata": {
        "id": "9-1ALKjrhAg2"
      }
    },
    {
      "cell_type": "code",
      "source": [],
      "metadata": {
        "id": "9f_y2MTduwIc"
      },
      "execution_count": null,
      "outputs": []
    }
  ]
}