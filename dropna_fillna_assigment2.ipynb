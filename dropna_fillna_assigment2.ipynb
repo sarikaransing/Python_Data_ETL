{
  "nbformat": 4,
  "nbformat_minor": 0,
  "metadata": {
    "colab": {
      "provenance": [],
      "authorship_tag": "ABX9TyOsabCAplXdFtK5J8cxcC5s",
      "include_colab_link": true
    },
    "kernelspec": {
      "name": "python3",
      "display_name": "Python 3"
    },
    "language_info": {
      "name": "python"
    }
  },
  "cells": [
    {
      "cell_type": "markdown",
      "metadata": {
        "id": "view-in-github",
        "colab_type": "text"
      },
      "source": [
        "<a href=\"https://colab.research.google.com/github/sarikaransing/Python_Data_ETL/blob/main/dropna_fillna_assigment2.ipynb\" target=\"_parent\"><img src=\"https://colab.research.google.com/assets/colab-badge.svg\" alt=\"Open In Colab\"/></a>"
      ]
    },
    {
      "cell_type": "markdown",
      "source": [
        "Load the file into a DataFrame and display the first 5 rows.\n",
        "\n",
        "Fill missing values in the amount column with the mean of the column.\n",
        "\n",
        "Replace missing values in the city column with \"Unknown\".\n",
        "\n",
        "Drop rows where both order_date and amount are missing."
      ],
      "metadata": {
        "id": "YoU-GO2FC7PV"
      }
    },
    {
      "cell_type": "code",
      "source": [
        "import  pandas  as  pd\n",
        "df=pd.read_csv(\"/content/Customer_data.txt\")\n",
        "\n",
        "df['amount']=df['amount'].fillna(df['amount'].mean())\n",
        "df['city']=df['city'].fillna('Unknow')\n",
        "print(df)\n",
        "#df['is_duplicated'].drop()\n",
        "df['is_duplicated']=df.duplicated(subset=['order_date','amount'],keep='first')\n",
        "print(df.head(5))\n",
        "#df4['is_duplicated'] = df4.duplicated(subset=['cust_id', 'amount'], keep='first')\n",
        "\n",
        "drop_duplicate=df.drop_duplicates(subset=['order_id','amount'])\n",
        "print(drop_duplicate)\n",
        "\n",
        "\n",
        "\n",
        "\n",
        "customer_order_counts = df['cust_id'].value_counts()\n",
        "print(customer_order_counts)\n",
        "multiple_orders = customer_order_counts[customer_order_counts > 1].index.tolist()\n",
        "\n",
        "print(\"Customers with more than one order:\", multiple_orders)\n"
      ],
      "metadata": {
        "colab": {
          "base_uri": "https://localhost:8080/"
        },
        "id": "mKanmAcgC86J",
        "outputId": "9ce7d8c5-2ca7-4cac-cdeb-4bfb3b6019be"
      },
      "execution_count": 34,
      "outputs": [
        {
          "output_type": "stream",
          "name": "stdout",
          "text": [
            "   cust_id  order_id  amount    city  order_date  is_duplicated\n",
            "0      101         1   200.0  Mumbai  2023-11-05          False\n",
            "1      102         2   270.0   Delhi  2023-11-06          False\n",
            "2      103         3   400.0  Unknow  2023-11-06          False\n",
            "3      101         4   250.0    Pune  2023-12-10          False\n",
            "4      104         5   270.0  Unknow         NaN          False\n",
            "   cust_id  order_id  amount     city  order_date  is_duplicated\n",
            "0      101         1   200.0   Mumbai  2023-11-05          False\n",
            "1      102         2   270.0    Delhi  2023-11-06          False\n",
            "2      103         3   400.0   Unknow  2023-11-06          False\n",
            "3      101         4   250.0     Pune  2023-12-10          False\n",
            "4      104         5   270.0   Unknow         NaN          False\n",
            "5      105         6   300.0  Chennai  2023-12-25          False\n",
            "6      101         7   200.0   Mumbai  2023-12-25          False\n",
            "cust_id\n",
            "101    3\n",
            "102    1\n",
            "103    1\n",
            "104    1\n",
            "105    1\n",
            "Name: count, dtype: int64\n",
            "Customers with more than one order: [101]\n"
          ]
        }
      ]
    },
    {
      "cell_type": "markdown",
      "source": [],
      "metadata": {
        "id": "G13asKZqG-FP"
      }
    }
  ]
}