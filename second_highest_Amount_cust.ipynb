{
  "nbformat": 4,
  "nbformat_minor": 0,
  "metadata": {
    "colab": {
      "provenance": [],
      "authorship_tag": "ABX9TyMiPqJNS6cojXB6tYMMpDca",
      "include_colab_link": true
    },
    "kernelspec": {
      "name": "python3",
      "display_name": "Python 3"
    },
    "language_info": {
      "name": "python"
    }
  },
  "cells": [
    {
      "cell_type": "markdown",
      "metadata": {
        "id": "view-in-github",
        "colab_type": "text"
      },
      "source": [
        "<a href=\"https://colab.research.google.com/github/sarikaransing/Python_Data_ETL/blob/main/second_highest_Amount_cust.ipynb\" target=\"_parent\"><img src=\"https://colab.research.google.com/assets/colab-badge.svg\" alt=\"Open In Colab\"/></a>"
      ]
    },
    {
      "cell_type": "code",
      "execution_count": null,
      "metadata": {
        "id": "QtRXKBJCgm2q"
      },
      "outputs": [],
      "source": []
    },
    {
      "cell_type": "markdown",
      "source": [
        "Read the file using Pandas.\n",
        "\n",
        "Show number of missing values per column.\n",
        "\n",
        "Display the first 3 records only."
      ],
      "metadata": {
        "id": "w26UYtorgqKk"
      }
    },
    {
      "cell_type": "code",
      "source": [
        "import pandas  as  pd\n",
        "df=pd.read_csv(\"/content/Sales_Data.txt\",header=0)\n",
        "#print(df)\n",
        "print(df.head(3))\n",
        "print(df.tail(2))\n",
        "print(df.isnull().sum())\n",
        "\n"
      ],
      "metadata": {
        "colab": {
          "base_uri": "https://localhost:8080/"
        },
        "id": "yqoprwm9gupO",
        "outputId": "d79a2db4-8bd6-46bb-aeaf-ae8bc8ce195c"
      },
      "execution_count": null,
      "outputs": [
        {
          "output_type": "stream",
          "name": "stdout",
          "text": [
            "   order_id  cust_id  amount    city\n",
            "0       1.0      101   200.0  Mumbai\n",
            "1       2.0      102     NaN   Delhi\n",
            "2       3.0      103   400.0     NaN\n",
            "   order_id  cust_id  amount city\n",
            "4       5.0      104     NaN  NaN\n",
            "5       NaN      105     NaN  NaN\n",
            "order_id    1\n",
            "cust_id     0\n",
            "amount      3\n",
            "city        3\n",
            "dtype: int64\n"
          ]
        }
      ]
    },
    {
      "cell_type": "code",
      "source": [
        "squares = {x: x**2 for x in range(5)}\n",
        "print(squares.keys())\n",
        "print(squares.values())\n",
        "print(squares.items())"
      ],
      "metadata": {
        "colab": {
          "base_uri": "https://localhost:8080/"
        },
        "id": "sWnURbvxutZc",
        "outputId": "bb36ed25-ec25-420c-ab55-bb041606fb39"
      },
      "execution_count": null,
      "outputs": [
        {
          "output_type": "stream",
          "name": "stdout",
          "text": [
            "dict_keys([0, 1, 2, 3, 4])\n",
            "dict_values([0, 1, 4, 9, 16])\n",
            "dict_items([(0, 0), (1, 1), (2, 4), (3, 9), (4, 16)])\n"
          ]
        }
      ]
    },
    {
      "cell_type": "code",
      "source": [
        "from ast import Return\n",
        "orders = [\n",
        "    {\"order_id\": 1, \"cust_id\": 101, \"amount\": 200},\n",
        "    {\"order_id\": 2, \"cust_id\": 101, \"amount\": 180},\n",
        "    {\"order_id\": 3, \"cust_id\": 102, \"amount\": 400},\n",
        "    {\"order_id\": 4, \"cust_id\": 103, \"amount\": 500},\n",
        "    {\"order_id\": 5, \"cust_id\": 101, \"amount\": 150}\n",
        "]\n",
        "\n",
        "def second_highest_AmountCust(orders):\n",
        "  sorted_orders=sorted(orders,key=lambda x: x['amount'], reverse=True)\n",
        "  #print(sorted_orders)\n",
        "\n",
        "  if len(sorted_orders) < 2:\n",
        "    print(\"not  sufficient  items to find out  second highest amount\")\n",
        "\n",
        "#assign first highest  value  to varaible\n",
        "  first_highest= sorted_orders[0]['amount']\n",
        "  print (first_highest)\n",
        "\n",
        "  for order in sorted_orders[1:]:\n",
        "    amount=order['amount']\n",
        "    if amount < first_highest: #we  can directly  use order['amount'] < first_highest as well\n",
        "      return order\n",
        "  else:\n",
        "    None\n",
        "\n",
        "result=second_highest_AmountCust(orders)\n",
        "print(result)"
      ],
      "metadata": {
        "colab": {
          "base_uri": "https://localhost:8080/"
        },
        "id": "SzagoiFAv9-a",
        "outputId": "f5f14c2d-fc6c-4661-8569-3f049f4797d1"
      },
      "execution_count": 2,
      "outputs": [
        {
          "output_type": "stream",
          "name": "stdout",
          "text": [
            "500\n",
            "{'order_id': 3, 'cust_id': 102, 'amount': 400}\n"
          ]
        }
      ]
    },
    {
      "cell_type": "markdown",
      "source": [],
      "metadata": {
        "id": "PtSVgF1wjdMB"
      }
    },
    {
      "cell_type": "markdown",
      "source": [],
      "metadata": {
        "id": "9-1ALKjrhAg2"
      }
    }
  ]
}